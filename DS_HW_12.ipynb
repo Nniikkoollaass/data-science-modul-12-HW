{
  "nbformat": 4,
  "nbformat_minor": 0,
  "metadata": {
    "colab": {
      "provenance": [],
      "authorship_tag": "ABX9TyPe/yV3fdyi2yc/rnCZMYF+",
      "include_colab_link": true
    },
    "kernelspec": {
      "name": "python3",
      "display_name": "Python 3"
    },
    "language_info": {
      "name": "python"
    }
  },
  "cells": [
    {
      "cell_type": "markdown",
      "metadata": {
        "id": "view-in-github",
        "colab_type": "text"
      },
      "source": [
        "<a href=\"https://colab.research.google.com/github/Nniikkoollaass/data-science-modul-12-HW/blob/main/DS_HW_12.ipynb\" target=\"_parent\"><img src=\"https://colab.research.google.com/assets/colab-badge.svg\" alt=\"Open In Colab\"/></a>"
      ]
    },
    {
      "cell_type": "markdown",
      "source": [
        "Завдання 12\n",
        "\n",
        "\n",
        "\n",
        "В якості домашнього завдання вам пропонується створити нейронну мережу за допомогою механізмів Keras, яка буде класифікувати товари із датасету fasion_mnist.\n",
        "\n",
        "\n",
        "\n",
        "Вам належить запропонувати свою власну архітектуру мережі. Точність найнаївнішої, але адекватної нейромережі становить приблизно 91%. Точність вашої моделі повинна бути не нижчою за цей показник. Щоб досягти таких значень вам знадобиться поекспериментувати з гіперпараметрами мережі:\n",
        "\n",
        "\n",
        "\n",
        "кількість шарів;\n",
        "кількість нейронів;\n",
        "функції активації;\n",
        "кількість епох;\n",
        "розмір батчу;\n",
        "вибір оптимізатора;\n",
        "різні техніки регуляризації і т.д.\n",
        "\n",
        "\n",
        "Використайте вивчені техніки виявлення проблем навчання нейронної мережі, і потім поекспериментуйте.\n",
        "\n",
        "\n",
        "\n",
        "Рішення оформіть у вигляді окремого ноутбука."
      ],
      "metadata": {
        "id": "QzXXfuVqTxms"
      }
    },
    {
      "cell_type": "code",
      "source": [
        "import tensorflow as tf\n",
        "from tensorflow.keras.models import Sequential\n",
        "from tensorflow.keras.layers import Dense, Flatten, Dropout\n",
        "from tensorflow.keras.optimizers import Adam\n",
        "from tensorflow.keras.callbacks import EarlyStopping\n",
        "from tensorflow.keras.datasets import fashion_mnist\n",
        "from tensorflow.keras.utils import to_categorical\n",
        "\n",
        "# Завантаження та попередня обробка датасету Fashion-MNIST\n",
        "(x_train, y_train), (x_test, y_test) = fashion_mnist.load_data()\n",
        "\n",
        "# Нормалізація даних (перетворення діапазону значень з [0, 255] до [0, 1])\n",
        "x_train = x_train / 255.0\n",
        "x_test = x_test / 255.0\n",
        "\n",
        "# One-hot кодування міток\n",
        "y_train = to_categorical(y_train, 10)\n",
        "y_test = to_categorical(y_test, 10)\n",
        "\n",
        "# Визначення архітектури моделі\n",
        "model = Sequential([\n",
        "    Flatten(input_shape=(28, 28)),  # Перетворення вхідних зображень у одномірний масив\n",
        "    Dense(128, activation='relu'),  # Перший прихований шар\n",
        "    Dropout(0.2),                   # Dropout для регуляризації\n",
        "    Dense(64, activation='relu'),   # Другий прихований шар\n",
        "    Dropout(0.2),                   # Dropout для регуляризації\n",
        "    Dense(10, activation='softmax') # Вихідний шар\n",
        "])\n",
        "\n",
        "# Компіляція моделі\n",
        "model.compile(optimizer=Adam(),\n",
        "              loss='categorical_crossentropy',\n",
        "              metrics=['accuracy'])\n",
        "\n",
        "# Визначення ранньої зупинки для запобігання перенавчанню\n",
        "early_stopping = EarlyStopping(monitor='val_loss', patience=5, restore_best_weights=True)\n",
        "\n",
        "# Навчання моделі\n",
        "history = model.fit(x_train, y_train,\n",
        "                    epochs=50,              # Кількість епох можна налаштовувати\n",
        "                    batch_size=128,         # Розмір батчу можна експериментально змінювати\n",
        "                    validation_split=0.2,   # Використання 20% даних для валідації\n",
        "                    callbacks=[early_stopping])\n",
        "\n",
        "# Оцінка моделі на тестовому наборі даних\n",
        "test_loss, test_accuracy = model.evaluate(x_test, y_test, verbose=2)\n",
        "print(f'Точність на тестовому наборі: {test_accuracy:.4f}')\n"
      ],
      "metadata": {
        "colab": {
          "base_uri": "https://localhost:8080/"
        },
        "id": "SivCtfRdTz15",
        "outputId": "ce28c565-16b7-423e-9ca8-7dfb7081787a"
      },
      "execution_count": 6,
      "outputs": [
        {
          "output_type": "stream",
          "name": "stdout",
          "text": [
            "Epoch 1/50\n",
            "375/375 [==============================] - 5s 12ms/step - loss: 0.6917 - accuracy: 0.7596 - val_loss: 0.4337 - val_accuracy: 0.8448\n",
            "Epoch 2/50\n",
            "375/375 [==============================] - 3s 9ms/step - loss: 0.4601 - accuracy: 0.8361 - val_loss: 0.3856 - val_accuracy: 0.8579\n",
            "Epoch 3/50\n",
            "375/375 [==============================] - 2s 6ms/step - loss: 0.4125 - accuracy: 0.8520 - val_loss: 0.3637 - val_accuracy: 0.8672\n",
            "Epoch 4/50\n",
            "375/375 [==============================] - 2s 6ms/step - loss: 0.3863 - accuracy: 0.8613 - val_loss: 0.3519 - val_accuracy: 0.8750\n",
            "Epoch 5/50\n",
            "375/375 [==============================] - 2s 5ms/step - loss: 0.3680 - accuracy: 0.8670 - val_loss: 0.3380 - val_accuracy: 0.8766\n",
            "Epoch 6/50\n",
            "375/375 [==============================] - 2s 5ms/step - loss: 0.3483 - accuracy: 0.8731 - val_loss: 0.3359 - val_accuracy: 0.8776\n",
            "Epoch 7/50\n",
            "375/375 [==============================] - 2s 6ms/step - loss: 0.3383 - accuracy: 0.8765 - val_loss: 0.3320 - val_accuracy: 0.8822\n",
            "Epoch 8/50\n",
            "375/375 [==============================] - 4s 10ms/step - loss: 0.3303 - accuracy: 0.8793 - val_loss: 0.3300 - val_accuracy: 0.8791\n",
            "Epoch 9/50\n",
            "375/375 [==============================] - 2s 5ms/step - loss: 0.3217 - accuracy: 0.8826 - val_loss: 0.3292 - val_accuracy: 0.8792\n",
            "Epoch 10/50\n",
            "375/375 [==============================] - 2s 5ms/step - loss: 0.3088 - accuracy: 0.8849 - val_loss: 0.3297 - val_accuracy: 0.8802\n",
            "Epoch 11/50\n",
            "375/375 [==============================] - 2s 5ms/step - loss: 0.3048 - accuracy: 0.8868 - val_loss: 0.3239 - val_accuracy: 0.8847\n",
            "Epoch 12/50\n",
            "375/375 [==============================] - 2s 5ms/step - loss: 0.2972 - accuracy: 0.8900 - val_loss: 0.3141 - val_accuracy: 0.8857\n",
            "Epoch 13/50\n",
            "375/375 [==============================] - 2s 5ms/step - loss: 0.2905 - accuracy: 0.8917 - val_loss: 0.3174 - val_accuracy: 0.8872\n",
            "Epoch 14/50\n",
            "375/375 [==============================] - 3s 8ms/step - loss: 0.2847 - accuracy: 0.8930 - val_loss: 0.3139 - val_accuracy: 0.8848\n",
            "Epoch 15/50\n",
            "375/375 [==============================] - 3s 7ms/step - loss: 0.2761 - accuracy: 0.8962 - val_loss: 0.3196 - val_accuracy: 0.8843\n",
            "Epoch 16/50\n",
            "375/375 [==============================] - 2s 5ms/step - loss: 0.2768 - accuracy: 0.8969 - val_loss: 0.3067 - val_accuracy: 0.8900\n",
            "Epoch 17/50\n",
            "375/375 [==============================] - 2s 6ms/step - loss: 0.2713 - accuracy: 0.8991 - val_loss: 0.3077 - val_accuracy: 0.8929\n",
            "Epoch 18/50\n",
            "375/375 [==============================] - 2s 5ms/step - loss: 0.2642 - accuracy: 0.9014 - val_loss: 0.3137 - val_accuracy: 0.8888\n",
            "Epoch 19/50\n",
            "375/375 [==============================] - 2s 5ms/step - loss: 0.2651 - accuracy: 0.8993 - val_loss: 0.3041 - val_accuracy: 0.8917\n",
            "Epoch 20/50\n",
            "375/375 [==============================] - 3s 8ms/step - loss: 0.2590 - accuracy: 0.9027 - val_loss: 0.3154 - val_accuracy: 0.8884\n",
            "Epoch 21/50\n",
            "375/375 [==============================] - 2s 6ms/step - loss: 0.2549 - accuracy: 0.9044 - val_loss: 0.3061 - val_accuracy: 0.8907\n",
            "Epoch 22/50\n",
            "375/375 [==============================] - 2s 5ms/step - loss: 0.2481 - accuracy: 0.9072 - val_loss: 0.3078 - val_accuracy: 0.8913\n",
            "Epoch 23/50\n",
            "375/375 [==============================] - 2s 5ms/step - loss: 0.2446 - accuracy: 0.9079 - val_loss: 0.3160 - val_accuracy: 0.8907\n",
            "Epoch 24/50\n",
            "375/375 [==============================] - 2s 5ms/step - loss: 0.2425 - accuracy: 0.9090 - val_loss: 0.3193 - val_accuracy: 0.8899\n",
            "313/313 - 0s - loss: 0.3292 - accuracy: 0.8865 - 483ms/epoch - 2ms/step\n",
            "Точність на тестовому наборі: 0.8865\n"
          ]
        }
      ]
    }
  ]
}